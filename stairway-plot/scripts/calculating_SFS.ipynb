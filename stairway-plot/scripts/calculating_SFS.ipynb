{
 "cells": [
  {
   "cell_type": "markdown",
   "id": "aba894c6-9b3c-4bb3-9fb6-fe99100faf4a",
   "metadata": {
    "tags": []
   },
   "source": [
    "# Folded SFS for _Littorina_ populations "
   ]
  },
  {
   "cell_type": "markdown",
   "id": "7060ef61-4bd2-44f9-8735-6f25ecdbb131",
   "metadata": {},
   "source": [
    "###  _Arcana_/_compressa_ AND north-Atlantic/Spain"
   ]
  },
  {
   "cell_type": "code",
   "execution_count": 4,
   "id": "45677ee0-7159-4b0c-8c4a-20127ca8a4ef",
   "metadata": {},
   "outputs": [
    {
     "data": {
      "text/plain": [
       "[1] \"2022-12-14 13:08:34 CET\""
      ]
     },
     "metadata": {},
     "output_type": "display_data"
    }
   ],
   "source": [
    "### Last update\n",
    "Sys.time()"
   ]
  },
  {
   "cell_type": "code",
   "execution_count": 5,
   "id": "8b047d03-e9f8-4e61-aa00-5f38d3944ae0",
   "metadata": {
    "tags": []
   },
   "outputs": [
    {
     "name": "stderr",
     "output_type": "stream",
     "text": [
      "Loading required package: devtools\n",
      "\n",
      "Loading required package: usethis\n",
      "\n",
      "Loading required package: vcfR\n",
      "\n",
      "\n",
      "   *****       ***   vcfR   ***       *****\n",
      "   This is vcfR 1.13.0 \n",
      "     browseVignettes('vcfR') # Documentation\n",
      "     citation('vcfR') # Citation\n",
      "   *****       *****      *****       *****\n",
      "\n",
      "\n"
     ]
    },
    {
     "data": {
      "text/html": [
       "<ol>\n",
       "\t<li>TRUE</li>\n",
       "\t<li>TRUE</li>\n",
       "</ol>\n"
      ],
      "text/latex": [
       "\\begin{enumerate}\n",
       "\\item TRUE\n",
       "\\item TRUE\n",
       "\\end{enumerate}\n"
      ],
      "text/markdown": [
       "1. TRUE\n",
       "2. TRUE\n",
       "\n",
       "\n"
      ],
      "text/plain": [
       "[[1]]\n",
       "[1] TRUE\n",
       "\n",
       "[[2]]\n",
       "[1] TRUE\n"
      ]
     },
     "metadata": {},
     "output_type": "display_data"
    },
    {
     "name": "stderr",
     "output_type": "stream",
     "text": [
      "\u001b[1m\u001b[22m\u001b[36mℹ\u001b[39m SHA-1 hash of file is \"c5459a27126699674032c7c5ee8f1609d0a21796\"\n"
     ]
    },
    {
     "data": {
      "text/html": [
       "<style>\n",
       ".list-inline {list-style: none; margin:0; padding: 0}\n",
       ".list-inline>li {display: inline-block}\n",
       ".list-inline>li:not(:last-child)::after {content: \"\\00b7\"; padding: 0 .5ex}\n",
       "</style>\n",
       "<ol class=list-inline><li>TRUE</li><li>TRUE</li></ol>\n"
      ],
      "text/latex": [
       "\\begin{enumerate*}\n",
       "\\item TRUE\n",
       "\\item TRUE\n",
       "\\end{enumerate*}\n"
      ],
      "text/markdown": [
       "1. TRUE\n",
       "2. TRUE\n",
       "\n",
       "\n"
      ],
      "text/plain": [
       "[1] TRUE TRUE"
      ]
     },
     "metadata": {},
     "output_type": "display_data"
    }
   ],
   "source": [
    "### R packages \n",
    "#lapply(c(\"devtools\",\"vcfR\"), install.packages, character.only = T)\n",
    "lapply(c(\"devtools\",\"vcfR\"), require, character.only = T)\n",
    "\n",
    "##read functions from guthib repo: vcf2sfs\n",
    "## https://github.com/shenglin-liu/vcf2sfs\n",
    "source_url(\"https://github.com/shenglin-liu/vcf2sfs/raw/master/vcf2sfs.r\")\n",
    "##ℹ SHA-1 hash of file is c5459a27126699674032c7c5ee8f1609d0a21796\n",
    "##checking if functions are loaded correctly\n",
    "c(\"vcf2gt\",\"gt2sfs.raw\") %in% ls()"
   ]
  },
  {
   "cell_type": "code",
   "execution_count": 1,
   "id": "38cfa2da-171e-4875-a066-5f4fbb58901d",
   "metadata": {},
   "outputs": [],
   "source": [
    "## set working directory\n",
    "setwd(\"~/Littorina/SWplot/\")\n",
    "\n",
    "## read vcf file\n",
    "# vcf_data <- read.vcfR(\"../VCFs/PHASED_variants_only_Maxmiss0.1_softDP10_minDP1500_all_sites_108_littorina.vcf.gz.vcf.gz\")\n",
    "\n",
    "##read population info file\n",
    "# pop <- read.table(\"sample/groups_birthType.txt\", stringsAsFactors = F)"
   ]
  },
  {
   "cell_type": "code",
   "execution_count": null,
   "id": "2ec9a12a-3435-4397-92e6-6db66dab837b",
   "metadata": {},
   "outputs": [],
   "source": [
    "## check vcf file\n",
    "# str(vcf_data)\n",
    "\n",
    "## check the vcf file\n",
    "# vcf_data@meta\n",
    "# vcf_data@fix\n",
    "# vcf_data@gt"
   ]
  },
  {
   "cell_type": "code",
   "execution_count": 3,
   "id": "40b0fdd6-a184-41e8-ac86-0a7e5df7ff6b",
   "metadata": {},
   "outputs": [
    {
     "name": "stdout",
     "output_type": "stream",
     "text": [
      "'data.frame':\t108 obs. of  2 variables:\n",
      " $ V1: chr  \"AMB_5_3\" \"BH_10_1\" \"NE_E1_367_La\" \"NE_E2_140_La\" ...\n",
      " $ V2: chr  \"egg_layers\" \"egg_layers\" \"egg_layers\" \"egg_layers\" ...\n"
     ]
    }
   ],
   "source": [
    "## check pop data\n",
    "str(pop)"
   ]
  },
  {
   "cell_type": "code",
   "execution_count": null,
   "id": "c2c77e1f-0ae3-400f-8b13-cb9748ee49b7",
   "metadata": {},
   "outputs": [],
   "source": [
    "## reoder the list of individuals to match the order in population info text file. \n",
    "# vcf_data@gt <- vcf_data@gt[,c(\"FORMAT\",pop[,1])] \n",
    "\n",
    "## write the modified vcf file for later usage\n",
    "# write.vcf(vcf_data, file = \"VCFs_sfs/full_ordered.vcf\")"
   ]
  },
  {
   "cell_type": "code",
   "execution_count": null,
   "id": "1d08c615-408c-43f3-948f-29ac8dd31a0c",
   "metadata": {},
   "outputs": [],
   "source": [
    "## Create a gt object for use by vcf2sfs functions\n",
    "vcf_ordered=\"VCFs_sfs/full_ordered.vcf\"\n",
    "popmap <- \"sample/groups_birthType.txt\"\n",
    "gt <- vcf2gt(vcf_ordered, popmap) #lists all populations and genotypes. "
   ]
  },
  {
   "cell_type": "code",
   "execution_count": null,
   "id": "ac9fa09c-5982-4f88-ba54-b677f9719344",
   "metadata": {},
   "outputs": [],
   "source": [
    "## manipulating gt object\n",
    "str(gt)\n",
    "levels(as.factor(gt$popmap)) \n",
    "# \"brooders\" \"egg_layers\"\n",
    "viewMissing(gt) #no data missing\n",
    "# none\n",
    "samSize(gt)\n",
    "# egg_layers   brooders \n",
    "#         28         80\n",
    "\n",
    "#save(gt, file = \"full_genotypes_pop.gt\") # save for later access"
   ]
  },
  {
   "cell_type": "code",
   "execution_count": null,
   "id": "59a243e6-0eaf-4b3c-a628-0a4675c671c6",
   "metadata": {},
   "outputs": [],
   "source": [
    "gt <- load(\"VCFs_sfs/full_genotypes_pop.gt\")"
   ]
  },
  {
   "cell_type": "markdown",
   "id": "7002b9b9-9ddc-46eb-ae54-9b2d895e39d1",
   "metadata": {},
   "source": [
    "### Site-frequency spectrum"
   ]
  },
  {
   "cell_type": "code",
   "execution_count": null,
   "id": "1739ec29-f9cc-4446-a0c8-13530cc61050",
   "metadata": {},
   "outputs": [],
   "source": [
    "sfs_brooders <- gt2sfs.raw(gt,\"brooders\")\n",
    "\n",
    "# brooders\n",
    "#       0       1       2       3       4       5       6       7       8       9 \n",
    "# 3434867 4555877 1995553 1221921  867166  649984  521203  430856  359227  302398 \n",
    "#      10      11      12      13      14      15      16      17      18      19 \n",
    "#  262453  228730  198943  174276  154026  138541  125296  113409  104270   94523 \n",
    "#      20      21      22      23      24      25      26      27      28      29 \n",
    "#   88072   79839   74398   69439   65233   60448   56768   53477   50654   48745 \n",
    "#      30      31      32      33      34      35      36      37      38      39 \n",
    "#   45108   42440   41079   38650   37332   36116   34097   32887   30945   29663 \n",
    "#      40      41      42      43      44      45      46      47      48      49 \n",
    "#   29024   28306   26644   26055   24637   23785   23335   22681   22176   21065 \n",
    "#      50      51      52      53      54      55      56      57      58      59 \n",
    "#   20517   20062   19625   18719   18243   17774   17367   16930   16512   16281 \n",
    "#      60      61      62      63      64      65      66      67      68      69 \n",
    "#   15961   15609   15027   15036   15066   14627   14267   14157   13820   13503 \n",
    "#      70      71      72      73      74      75      76      77      78      79 \n",
    "#   13444   13183   12793   12938   12596   12522   12487   12473   12412   12539 \n",
    "#      80      81      82      83      84      85      86      87      88      89 \n",
    "#   12933   11922   11234   11448   10841   10786   10582   10748   10284   10361 \n",
    "#      90      91      92      93      94      95      96      97      98      99 \n",
    "#   10516   10206   10115    9914   10102    9871    9623    9698    9635    9502 \n",
    "#     100     101     102     103     104     105     106     107     108     109 \n",
    "#    9376    9366    9388    9425    9403    9463    9544    9324    9290    9387 \n",
    "#     110     111     112     113     114     115     116     117     118     119 \n",
    "#    9007    9420    9389    9087    9236    9356    9320    9120    9547    9200 \n",
    "#     120     121     122     123     124     125     126     127     128     129 \n",
    "#    9508    9307    9572    9558    9494    9635    9663    9786   10079   10203 \n",
    "#     130     131     132     133     134     135     136     137     138     139 \n",
    "#   10153   10450   10576   10991   10647   11059   11024   11269   11553   11770 \n",
    "#     140     141     142     143     144     145     146     147     148     149 \n",
    "#   11929   12155   12124   12518   12397   12773   13385   13146   13289   13640 \n",
    "#     150     151     152     153     154     155     156     157     158     159 \n",
    "#   13427   13646   13847   13394   13524   13515   13094   12266   11503   11049 \n",
    "#     160 \n",
    "#   27001 \n"
   ]
  },
  {
   "cell_type": "code",
   "execution_count": null,
   "id": "9e2f7152-a3ef-490e-b1f9-d4b8c482a620",
   "metadata": {},
   "outputs": [],
   "source": [
    "sfs_egglayers <- gt2sfs.raw(gt,\"egg_layers\")\n",
    "\n",
    "# egg_layers\n",
    "#       0       1       2       3       4       5       6       7       8       9 \n",
    "# 9360836 2786874 1307687  771142  544852  405721  332682  291492  227731  175747 \n",
    "#      10      11      12      13      14      15      16      17      18      19 \n",
    "#  150079  128361  112634  100426   89597   81307   74745   66664   61287   55599 \n",
    "#      20      21      22      23      24      25      26      27      28      29 \n",
    "#   52223   48758   46028   43254   41012   38741   36883   37241   37234   32859 \n",
    "#      30      31      32      33      34      35      36      37      38      39 \n",
    "#   31643   32505   29193   27432   26957   26429   25512   24711   24941   25524 \n",
    "#      40      41      42      43      44      45      46      47      48      49 \n",
    "#   24958   24427   24475   24548   24696   25228   26736   28284   29947   30084 \n",
    "#      50      51      52      53      54      55      56 \n",
    "#   30020   31202   34873   38854   49823   69714  207583"
   ]
  },
  {
   "cell_type": "markdown",
   "id": "2d2abd1d-7454-43ad-96db-bdb1b2fc82c6",
   "metadata": {},
   "source": [
    "### Folded site-frequency spectrum"
   ]
  },
  {
   "cell_type": "code",
   "execution_count": null,
   "id": "8478e33a-0e47-4300-a705-26f01bdcc842",
   "metadata": {},
   "outputs": [],
   "source": [
    "sfs_folded_brooders <- fold.sfs(sfs_brooders)\n",
    "\n",
    "# brooders\n",
    "#       0       1       2       3       4       5       6       7       8       9 \n",
    "# 3461868 4566926 2007056 1234187  880260  663499  534727  444250  373074  316044 \n",
    "#      10      11      12      13      14      15      16      17      18      19 \n",
    "#  275880  242370  212232  187422  167411  151314  137693  125927  116394  106678 \n",
    "#      20      21      22      23      24      25      26      27      28      29 \n",
    "#  100001   91609   85951   80708   76257   71507   67415   64468   61230   59195 \n",
    "#      30      31      32      33      34      35      36      37      38      39 \n",
    "#   55261   52643   51158   48436   46995   45751   43591   42445   40517   38970 \n",
    "#      40      41      42      43      44      45      46      47      48      49 \n",
    "#   38532   37506   36191   35175   33957   33141   32571   31768   31565   30485 \n",
    "#      50      51      52      53      54      55      56      57      58      59 \n",
    "#   29524   29449   28915   28043   27787   27237   26770   26355   25900   25647 \n",
    "#      60      61      62      63      64      65      66      67      68      69 \n",
    "#   25337   25111   24662   24734   24689   24498   24369   24071   23935   23709 \n",
    "#      70      71      72      73      74      75      76      77      78      79 \n",
    "#   23960   23544   23077   23686   23178   23308   23328   23921   23646   24461 \n",
    "#      80      81      82      83      84      85      86      87      88      89 \n",
    "#   12933       0       0       0       0       0       0       0       0       0 \n",
    "#      90      91      92      93      94      95      96      97      98      99 \n",
    "#       0       0       0       0       0       0       0       0       0       0 \n",
    "#     100     101     102     103     104     105     106     107     108     109 \n",
    "#       0       0       0       0       0       0       0       0       0       0 \n",
    "#     110     111     112     113     114     115     116     117     118     119 \n",
    "#       0       0       0       0       0       0       0       0       0       0 \n",
    "#     120     121     122     123     124     125     126     127     128     129 \n",
    "#       0       0       0       0       0       0       0       0       0       0 \n",
    "#     130     131     132     133     134     135     136     137     138     139 \n",
    "#       0       0       0       0       0       0       0       0       0       0 \n",
    "#     140     141     142     143     144     145     146     147     148     149 \n",
    "#       0       0       0       0       0       0       0       0       0       0 \n",
    "#     150     151     152     153     154     155     156     157     158     159 \n",
    "#       0       0       0       0       0       0       0       0       0       0 \n",
    "#     160 \n",
    "#       0 \n",
    "\n",
    "\n",
    "sfs_folded_egglayers <- fold.sfs(sfs_egglayers)\n",
    "\n",
    "# egg_layers\n",
    "#       0       1       2       3       4       5       6       7       8       9 \n",
    "# 9568419 2856588 1357510  809996  579725  436923  362702  321576  257678  204031 \n",
    "#      10      11      12      13      14      15      16      17      18      19 \n",
    "#  176815  153589  137330  124974  114072  105734   99703   92188   86228   80310 \n",
    "#      20      21      22      23      24      25      26      27      28      29 \n",
    "#   77735   75187   72985   70686   70205   71246   68526   70100   37234       0 \n",
    "#      30      31      32      33      34      35      36      37      38      39 \n",
    "#       0       0       0       0       0       0       0       0       0       0 \n",
    "#      40      41      42      43      44      45      46      47      48      49 \n",
    "#       0       0       0       0       0       0       0       0       0       0 \n",
    "#      50      51      52      53      54      55      56 \n",
    "#       0       0       0       0       0       0       0 "
   ]
  },
  {
   "cell_type": "code",
   "execution_count": null,
   "id": "b08a80d9-a5a6-4d05-84cf-6a1bdf309ad7",
   "metadata": {
    "tags": []
   },
   "outputs": [],
   "source": [
    "#### For reproducibility ----\n",
    "sessionInfo()"
   ]
  }
 ],
 "metadata": {
  "kernelspec": {
   "display_name": "R",
   "language": "R",
   "name": "ir"
  },
  "language_info": {
   "codemirror_mode": "r",
   "file_extension": ".r",
   "mimetype": "text/x-r-source",
   "name": "R",
   "pygments_lexer": "r",
   "version": "4.1.2"
  }
 },
 "nbformat": 4,
 "nbformat_minor": 5
}
